{
 "cells": [
  {
   "cell_type": "markdown",
   "metadata": {},
   "source": [
    "### This is the file scraping movie reviews from IMDB, and create 'my_review.csv', which includes movie names and reviews of them"
   ]
  },
  {
   "cell_type": "code",
   "execution_count": 350,
   "metadata": {
    "collapsed": false
   },
   "outputs": [],
   "source": [
    "# Here I use BeautifulSoup to scrape movie reviews from IMDB\n",
    "import urllib.request\n",
    "from bs4 import BeautifulSoup\n",
    "import lxml\n",
    "import os \n",
    "import pandas as pd\n",
    "import numpy as np\n",
    "import re\n",
    "os.chdir('/Users/Bowen/Documents/2017Spring/ADS/Spr2017-proj5-grp11-master/data/')"
   ]
  },
  {
   "cell_type": "code",
   "execution_count": 351,
   "metadata": {
    "collapsed": false
   },
   "outputs": [],
   "source": [
    "df1=pd.read_csv('data_clean.csv')"
   ]
  },
  {
   "cell_type": "code",
   "execution_count": 352,
   "metadata": {
    "collapsed": false
   },
   "outputs": [],
   "source": [
    "link=[a.replace('?ref_=fn_tt_tt_1','reviews?ref_=tt_urv') for a in df1['movie_imdb_link']]"
   ]
  },
  {
   "cell_type": "code",
   "execution_count": 353,
   "metadata": {
    "collapsed": false
   },
   "outputs": [],
   "source": [
    "dic={a.replace('\\xa0',''):b for (a,b) in list(zip(df1['movie_title'],link))}\n",
    "#df2=df1.drop_duplicates(['movie_title'], keep='first')\n",
    "#df2.to_csv('data_clean.csv')"
   ]
  },
  {
   "cell_type": "code",
   "execution_count": 355,
   "metadata": {
    "collapsed": true
   },
   "outputs": [],
   "source": [
    "def getreview(url):\n",
    "    nf2 = urllib.request.urlopen(url)\n",
    "    sp = BeautifulSoup(nf2, 'lxml', from_encoding='utf-8')\n",
    "    b1=sp.findAll('p')\n",
    "    review=[a.contents for a in b1 if str(a).startswith('<p>')]\n",
    "    review1=[a for a in review if str(a[0]).startswith('\\n')]\n",
    "    review2=[]\n",
    "    for a in review1:\n",
    "        review2=review2+[b for b in a if str(b)!='<br/>']\n",
    "    review3=[a.replace('\\n',' ') for a in review2]\n",
    "    review4 = [re.sub(\"[^\\w]\", \" \",  a) for a in review3]\n",
    "    review5 = [re.sub(\"\\d\", \"\", a).lower() for a in review4]\n",
    "    review6 = [' '.join(a.split()) for a in review5 if len(a)>6]\n",
    "    return(review6)"
   ]
  },
  {
   "cell_type": "code",
   "execution_count": null,
   "metadata": {
    "collapsed": true
   },
   "outputs": [],
   "source": [
    "spider_review=pd.DataFrame(columns=['review_detail','movie_name'])\n",
    "for i in range(len(dic)):\n",
    "    key=list(dic.keys())[i]\n",
    "    url=dic[key]\n",
    "    reviews=getreview(url)\n",
    "    chunk=pd.DataFrame({'review_detail':reviews,'movie_name':[key]*len(reviews)})\n",
    "    spider_review=spider_review.append(chunk)"
   ]
  },
  {
   "cell_type": "code",
   "execution_count": 370,
   "metadata": {
    "collapsed": true
   },
   "outputs": [],
   "source": [
    "spider_review=spider_review[['review_detail','movie_name']]\n",
    "spider_review['movie_name']=[''.join(a.split()) for a in spider_review['movie_name']]\n",
    "spider_review.to_csv('all_review',index=False)"
   ]
  },
  {
   "cell_type": "code",
   "execution_count": 373,
   "metadata": {
    "collapsed": false
   },
   "outputs": [],
   "source": [
    "spider_review.to_csv('my_review.csv',index=False)"
   ]
  }
 ],
 "metadata": {
  "anaconda-cloud": {},
  "kernelspec": {
   "display_name": "Python [conda root]",
   "language": "python",
   "name": "conda-root-py"
  },
  "language_info": {
   "codemirror_mode": {
    "name": "ipython",
    "version": 3
   },
   "file_extension": ".py",
   "mimetype": "text/x-python",
   "name": "python",
   "nbconvert_exporter": "python",
   "pygments_lexer": "ipython3",
   "version": "3.5.2"
  }
 },
 "nbformat": 4,
 "nbformat_minor": 1
}
